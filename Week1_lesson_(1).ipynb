{
  "cells": [
    {
      "cell_type": "markdown",
      "metadata": {
        "id": "view-in-github",
        "colab_type": "text"
      },
      "source": [
        "<a href=\"https://colab.research.google.com/github/muhammadawais131/Assignment-Week-01-Ai-/blob/main/Week1_lesson_(1).ipynb\" target=\"_parent\"><img src=\"https://colab.research.google.com/assets/colab-badge.svg\" alt=\"Open In Colab\"/></a>"
      ]
    },
    {
      "cell_type": "markdown",
      "id": "d66f0500",
      "metadata": {
        "id": "d66f0500"
      },
      "source": [
        "# 🚀 **Introduction to APIs and LLMs with Python**\n",
        "\n",
        "Welcome! 👋  \n",
        "In this notebook, we will learn the basics of AI (Artificial Intelligence), LLMs (Large Language Models), APIs (Application Programming Interfaces).\n",
        "\n",
        "By the end of this notebook, you will:  \n",
        "- What is AI.  \n",
        "- What are LLM.  \n",
        "- What are API.\n",
        "- Jupyter notebook or Google colab.\n",
        "- Save and share your notebook using GitHub.  \n",
        "\n",
        "Let’s begin 🚀\n"
      ]
    },
    {
      "cell_type": "markdown",
      "id": "cbf80d1c",
      "metadata": {
        "id": "cbf80d1c"
      },
      "source": [
        "# 🌟 But first start with some basic recap!🌟"
      ]
    },
    {
      "cell_type": "markdown",
      "id": "83150a22",
      "metadata": {
        "id": "83150a22"
      },
      "source": [
        "---\n",
        "\n",
        "### ❗ **Question 1**: What is Artificial Intelligence (AI)?"
      ]
    },
    {
      "cell_type": "markdown",
      "id": "73b74016",
      "metadata": {
        "id": "73b74016"
      },
      "source": [
        "👉 Artificial Intelligence (AI) means teaching computers to think and act like humans.\n",
        "\n",
        "Just like we use our brain to learn, solve problems, and make decisions, AI helps computers do the same.\n",
        "\n",
        "For example:\n",
        "\n",
        "1) When you talk to Siri or Alexa and they answer you → that’s AI.\n",
        "\n",
        "2) When YouTube shows you videos you may like → that’s AI.\n",
        "\n",
        "3) When a self-driving car follows the road → that’s AI.\n",
        "\n",
        "So, AI is like giving a computer a mini brain to understand, learn, and decide. OR in simple words AI is just automation...\n",
        "\n",
        "---"
      ]
    },
    {
      "cell_type": "markdown",
      "id": "0fa29b08",
      "metadata": {
        "id": "0fa29b08"
      },
      "source": [
        "### 💡 **Quick Questions**:"
      ]
    },
    {
      "cell_type": "markdown",
      "id": "202be2da",
      "metadata": {
        "id": "202be2da"
      },
      "source": [
        "1. Do yo think AI should be defined by how it is built, or by what it can do? Why?\n",
        "\n",
        "- Answer : I believe AI is defined by what it can do,Its capabilities—rather than how its constructed.Because its function and capabilities determine its impact and value,rather than its specific underlying architecture or technology."
      ]
    },
    {
      "cell_type": "markdown",
      "id": "a798c03b",
      "metadata": {
        "id": "a798c03b"
      },
      "source": [
        "2. Today's AI is mostly narrow AI (like bots, recommendation systems, etc). What do you think true 'general AI' would look like - and how close are we to it?\n",
        "\n",
        "- Answer : Yes general AI would be like a human mind—able to learn, reason, and adapt across any task, not just one. We are  still far from it, current AI is powerful but limited to narrow roles."
      ]
    },
    {
      "cell_type": "markdown",
      "id": "b5587b81",
      "metadata": {
        "id": "b5587b81"
      },
      "source": [
        "3. Can AI ‘understand’ things the way humans do, or is it just simulating understanding?\n",
        "\n",
        "- Answer : No AI doesn’t really understand like humans. It only copies patterns and gives answers that look like understanding."
      ]
    },
    {
      "cell_type": "markdown",
      "id": "aa230e0f",
      "metadata": {
        "id": "aa230e0f"
      },
      "source": [
        "4. If an AI system makes a decision that harms someone, who should be responsible: the AI, the developer, or the user?\n",
        "\n",
        "- Answer :AI itself is just a tool,So it cannot be blamed. The developer is responsible for making it safe and fair,while the user is responsible for using it correctly. SO i would  say  both share responsibility depending on how the AI is built and how it is used."
      ]
    },
    {
      "cell_type": "markdown",
      "id": "e18502d3",
      "metadata": {
        "id": "e18502d3"
      },
      "source": [
        "5. Should AI be allowed to make decisions in areas like healthcare, hiring, or law? Why or why not?\n",
        "\n",
        "- Answer :Yes AI can help in areas like healthcare, hiring, or law by giving fast and accurate support.But it should not make final decisions. Human judgment is still needed beacuse AI Cannot judge accurately as Humans,because AI can make mistakes or have unfair results."
      ]
    },
    {
      "cell_type": "markdown",
      "id": "5d3c001a",
      "metadata": {
        "id": "5d3c001a"
      },
      "source": [
        "6. If an AI composes music or paints artwork, who owns the rights — the AI, the programmer, or nobody?\n",
        "\n",
        "- Answer :The first thing Ai cannot be the owner because its not a person.Definitely rights usually belong to programmer who built the Ai.If a user give clear input or direction,sometimes the rights can go to the user."
      ]
    },
    {
      "cell_type": "markdown",
      "id": "d7ad6c92",
      "metadata": {
        "id": "d7ad6c92"
      },
      "source": [
        "7. Which jobs do you think AI will change the most in the next 10 years, and which jobs are the hardest for AI to replace?\n",
        "\n",
        "- Answer :In My opinion Ai will change jobs like data entry,customer support and routine office work the most in the next 10 years,Beacuse these jobs are repititve.The hardest job for Ai to replace will be those requiring human creativity,emotions,and critical thinking like teachers,docotrs,leaders,artist,and developer etc."
      ]
    },
    {
      "cell_type": "markdown",
      "id": "227be13c",
      "metadata": {
        "id": "227be13c"
      },
      "source": [
        "8. Would you trust an AI to drive your car, perform surgery, or grade your exams? Why or why not?\n",
        "\n",
        "- Answer :Yup i would trust Ai to drive my car or grading exams, But i would not rely for critical things like surgery humans oversight is important since Ai can still make mistakes that humans can handle better the Ai.  "
      ]
    },
    {
      "cell_type": "markdown",
      "metadata": {
        "id": "X1_2pZst35MM"
      },
      "source": [
        "----\n",
        "\n",
        "### ❗ **Question 2**: What are LLMs?"
      ],
      "id": "X1_2pZst35MM"
    },
    {
      "cell_type": "markdown",
      "id": "8d5c4ce8",
      "metadata": {
        "id": "8d5c4ce8"
      },
      "source": [
        "👉 LLMs means Large Language Models.\n",
        "\n",
        "They are special computer programs that can read, understand, and write human language (like English, Urdu, or any other).\n",
        "\n",
        "🧠 How do they process and generate text?\n",
        "\n",
        "Think of it like this:\n",
        "\n",
        "1) Learning stage 📚\n",
        "\n",
        "    - The LLM reads a lot of books, websites, stories, and articles.\n",
        "\n",
        "    - From this, it learns how words are used and which words usually come after each other.\n",
        "\n",
        "2) Understanding stage 👂\n",
        "\n",
        "    - When you ask a question (like “What is the sky’s color?”), it looks at the words carefully.\n",
        "\n",
        "3) Writing stage ✍️\n",
        "\n",
        "    - It then guesses the next word step by step.\n",
        "\n",
        "    - Example: If you say, “The sky is…”\n",
        "    → It has seen many times that the next word is “blue.”\n",
        "\n",
        "    - So it answers: “The sky is blue.”"
      ]
    },
    {
      "cell_type": "markdown",
      "id": "ebfb9536",
      "metadata": {
        "id": "ebfb9536"
      },
      "source": [
        "🌈 Easy way to remember\n",
        "\n",
        "LLM is like a super-smart parrot 🦜:\n",
        "\n",
        "- It has read millions of books.\n",
        "\n",
        "- When you talk to it, it replies by picking the best words it learned before.\n",
        "\n",
        "---"
      ]
    },
    {
      "cell_type": "markdown",
      "id": "40a28289",
      "metadata": {
        "id": "40a28289"
      },
      "source": [
        "### 💡 **Quick Questions**"
      ]
    },
    {
      "cell_type": "markdown",
      "id": "8f09b3f4",
      "metadata": {
        "id": "8f09b3f4"
      },
      "source": [
        "1. What is one task that LLMs perform surprisingly well, and one task where they still struggle — and why do you think that is?\n",
        "\n",
        "- Answer :LLMs are surprisingly good at writing and explaining text clearly because they learn from massive data. But they still struggle with accuracy and deep reasoning since they only predict patterns, not truly understand."
      ]
    },
    {
      "cell_type": "markdown",
      "id": "5d57a758",
      "metadata": {
        "id": "5d57a758"
      },
      "source": [
        "2. If an LLM gives a very confident but wrong answer, should we call that a ‘mistake’ like in humans, or something else? Why?\n",
        "\n",
        "- Answer :I would call it an error, not a human-like mistake, because LLMs don’t actually know things. They only predict patterns,so a wrong answer is just a wrong prediction, not real understanding."
      ]
    },
    {
      "cell_type": "markdown",
      "id": "e64f4bae",
      "metadata": {
        "id": "e64f4bae"
      },
      "source": [
        "3. Do you think LLMs will replace programmers, or just change the way programming is done? Why?\n",
        "\n",
        "- Answer :I think LLMs won’t replace programmers but will change the way programming is done. They can speed up coding and help with simple tasks,but humans are still needed for logic, creativity, and problem-solving."
      ]
    },
    {
      "cell_type": "markdown",
      "id": "eacb03e9",
      "metadata": {
        "id": "eacb03e9"
      },
      "source": [
        "4. Humans learn language from relatively little data compared to LLMs, which need billions of words. Why do you think humans are so much more data-efficient?\n",
        "\n",
        "- Answer:Humans are more data-efficient because we learn with real understanding, common sense, and experiences from the world around us. LLMs on the other hand, only rely on patterns in text without true comprehension."
      ]
    },
    {
      "cell_type": "markdown",
      "id": "81c628d5",
      "metadata": {
        "id": "81c628d5"
      },
      "source": [
        "5. When an LLM generates a poem or a story, would you call it ‘creative’? Why or why not?\n",
        "\n",
        "- Answer :I would not call it truly creative,Because LLMs don’t have feelings or imagination. They just mix and match patterns from data to look creative,But its not the same as human creativity."
      ]
    },
    {
      "cell_type": "markdown",
      "metadata": {
        "id": "yu4Qurr735MO"
      },
      "source": [
        "6. If you ask the same LLM the same question multiple times, you might get different answers. What does this tell us about how LLMs generate text?\n",
        "\n",
        "- Answer :It shows that LLMs dont store fixed answers but generate text by predicting words from patterns. Thats why the response can change each time, depending on randomness and context."
      ],
      "id": "yu4Qurr735MO"
    },
    {
      "cell_type": "markdown",
      "id": "1ef6eb41",
      "metadata": {
        "id": "1ef6eb41"
      },
      "source": [
        "---\n",
        "\n",
        "### ❗ **Question 3**: What are APIs?"
      ]
    },
    {
      "cell_type": "markdown",
      "id": "8d2479b1",
      "metadata": {
        "id": "8d2479b1"
      },
      "source": [
        "👉 API means Application Programming Interface.\n",
        "\n",
        "That sounds big, but here’s the simple meaning:\n",
        "\n",
        "An API is like a waiter in a restaurant. 🍽️\n",
        "\n",
        "* You (the customer) tell the waiter what food you want.\n",
        "* The waiter takes your order to the kitchen (the system).\n",
        "* The kitchen makes the food.\n",
        "* The waiter brings the food back to you.\n",
        "\n",
        "👉 In the same way:\n",
        "\n",
        "* You (the user) send a request through an API.\n",
        "* The computer/server prepares the data.\n",
        "* The API brings the data back to you.\n",
        "\n",
        "🖥️ Example:\n",
        "\n",
        "* If you want to know today’s **weather**, you ask the **Weather API**.\n",
        "* The API goes to the weather database, finds the answer, and gives it back to you.\n",
        "* So yophone ur app shows: *“It’s 30°C and sunny ☀️.”*\n",
        "\n",
        "\n",
        "🌈 Easy way to remember:\n",
        "\n",
        "API = Middleman/helper -> that carries your request and brings back the answer."
      ]
    },
    {
      "cell_type": "markdown",
      "metadata": {
        "id": "_H_s1FCP35MO"
      },
      "source": [
        "---\n",
        "\n",
        "### ❗ **Question 4**: What is role of APIs in Automation?"
      ],
      "id": "_H_s1FCP35MO"
    },
    {
      "cell_type": "markdown",
      "id": "284fd0c9",
      "metadata": {
        "id": "284fd0c9"
      },
      "source": [
        "🌟 Role of APIs in Automation\n",
        "\n",
        "👉 Automation means making machines do work automatically (without humans doing every step).\n",
        "\n",
        "👉 APIs help automation by letting different programs talk to each other and share information."
      ]
    },
    {
      "cell_type": "markdown",
      "source": [],
      "metadata": {
        "id": "JlLULlsi3_Ii"
      },
      "id": "JlLULlsi3_Ii"
    },
    {
      "cell_type": "markdown",
      "id": "05768a01",
      "metadata": {
        "id": "05768a01"
      },
      "source": [
        "🖥️ Example 1: Using Weather API\n",
        "\n",
        "* Imagine you want to see the weather every morning.\n",
        "* Without API → You would open the website, search, and read.\n",
        "* With API → A program can **automatically** ask the weather API and show:\n",
        "\n",
        "  *“Good morning! Today is sunny ☀️.”*\n",
        "  \n",
        "  ➡️ You don’t have to do anything — it’s automatic!\n"
      ]
    },
    {
      "cell_type": "markdown",
      "id": "9e31d6be",
      "metadata": {
        "id": "9e31d6be"
      },
      "source": [
        "🧠 Example 2: Accessing LLMs (like ChatGPT) through API\n",
        "\n",
        "* LLM (Large Language Model) is like a **big smart brain** on a server.\n",
        "* But that brain doesn’t live on your computer — it’s far away (in the cloud).\n",
        "* **API** is the bridge 🌉 that lets your app talk to that brain.\n",
        "\n",
        "👉 Steps:\n",
        "\n",
        "1. You type a question in your app → “Tell me a story about a dragon.” 🐉\n",
        "2. Your app sends this request through the **API** to the LLM.\n",
        "3. The LLM thinks and writes a story.\n",
        "4. The **API brings back** the story to your app.\n",
        "\n",
        "➡️ This way, you can use the smart LLM **remotely** (from anywhere) without installing it on your computer."
      ]
    },
    {
      "cell_type": "markdown",
      "id": "281ade04",
      "metadata": {
        "id": "281ade04"
      },
      "source": [
        "🌈 Easy way to remember\n",
        "\n",
        "**API is like a magic pipe** 🔌:\n",
        "\n",
        "* One side: You put in your request.\n",
        "* Other side: You get back the answer.\n",
        "\n",
        "---"
      ]
    },
    {
      "cell_type": "markdown",
      "id": "b27abf4f",
      "metadata": {
        "id": "b27abf4f"
      },
      "source": [
        "### 💡 **Quick Questions**"
      ]
    },
    {
      "cell_type": "markdown",
      "metadata": {
        "id": "xPEtLIqL35MP"
      },
      "source": [
        "1. If an AI model is huge and cannot run on your laptop, how can an API make it usable for you?\n",
        "\n",
        "- Answer :If an Ai model is too big for my laptop,So API makes it usable by running the model on strong servers.I just send my request through the API,and it gives me back the result without needing heavy power on my own device."
      ],
      "id": "xPEtLIqL35MP"
    },
    {
      "cell_type": "markdown",
      "id": "76728b8c",
      "metadata": {
        "id": "76728b8c"
      },
      "source": [
        "2. Why do most AI companies (like OpenAI, Hugging Face, Google) provide APIs instead of letting people directly download their models?\n",
        "\n",
        "- Answer :Most AI companies provide APIs instead of downloads because the models are very large and need strong hardware,and cost a lot to run.So APIs make it easier,safer,and more controlled for users to access without handling all that themselves."
      ]
    },
    {
      "cell_type": "markdown",
      "id": "e50ac81d",
      "metadata": {
        "id": "e50ac81d"
      },
      "source": [
        "3. Why do you think API rate limits exist? How does it affect AI usage?\n",
        "\n",
        "- Answer :API rate limits are there to stop people from using it too much at once. It means we can only send a certain number of requests in a set time."
      ]
    },
    {
      "cell_type": "markdown",
      "id": "a81ad685",
      "metadata": {
        "id": "a81ad685"
      },
      "source": [
        "4. How would you handle an API error like 429 Too Many Requests in your code?\n",
        "\n",
        "- Answer :If i get a 429 error,I would wait for some time before sending the next request.I can also add a retry system in my code so it tries again after a short delay."
      ]
    },
    {
      "cell_type": "markdown",
      "id": "e019ae9e",
      "metadata": {
        "id": "e019ae9e"
      },
      "source": [
        "---\n",
        "\n",
        "## 🌟 How it all connects 🤝\n",
        "\n",
        "* **AI** = The smart brain.\n",
        "* **LLM** = A type of AI that talks like humans.\n",
        "* **API** = The messenger that connects us to AI/LLMs.\n",
        "* **Automation** = The reason we use APIs — to make work happen without us doing it again and again.\n",
        "\n",
        "✨ So, whenever you hear:\n",
        "\n",
        "* **AI** → Smart brain for computers.\n",
        "* **LLM** → AI that talks like humans.\n",
        "* **API** → Messenger/waiter/helper.\n",
        "* **Automation** → Work done automatically.\n",
        "\n",
        "\n",
        "---"
      ]
    },
    {
      "cell_type": "markdown",
      "id": "7c2846e7",
      "metadata": {
        "id": "7c2846e7"
      },
      "source": [
        "## 🐍 Python for API Interaction"
      ]
    },
    {
      "cell_type": "markdown",
      "id": "08f1820a",
      "metadata": {
        "id": "08f1820a"
      },
      "source": [
        "🌟 **1. Using requests to call an API**\n",
        "\n",
        "Python has a library called requests that helps us talk to APIs (send requests and get answers).\n",
        "\n",
        "👉 Example:\n",
        "Let’s get some data from a public API (e.g., a joke API 🤭)."
      ]
    },
    {
      "cell_type": "code",
      "execution_count": null,
      "id": "dbebb5b6",
      "metadata": {
        "id": "dbebb5b6",
        "outputId": "7ed69aa1-4868-4a98-a0f4-581833d8f1b6"
      },
      "outputs": [
        {
          "name": "stdout",
          "output_type": "stream",
          "text": [
            "{\"type\":\"general\",\"setup\":\"What do you do when you see a space man?\",\"punchline\":\"Park your car, man.\",\"id\":227}\n"
          ]
        }
      ],
      "source": [
        "import requests\n",
        "\n",
        "# Send a GET request to the API\n",
        "response = requests.get(\"https://official-joke-api.appspot.com/random_joke\")\n",
        "\n",
        "# Print raw response (text)\n",
        "print(response.text)\n"
      ]
    },
    {
      "cell_type": "markdown",
      "id": "bcdb289c",
      "metadata": {
        "id": "bcdb289c"
      },
      "source": [
        "➡️ This sends a message to the API, and the API replies with data (usually in JSON format)."
      ]
    },
    {
      "cell_type": "markdown",
      "id": "9d28b497",
      "metadata": {
        "id": "9d28b497"
      },
      "source": [
        "🌟 **2. What is JSON?**\n",
        "\n",
        "👉 JSON = JavaScript Object Notation.\n",
        "\n",
        "It’s a way to store and share data.\n",
        "\n",
        "Looks like a dictionary in Python → with keys and values.\n",
        "\n",
        "💡 Example JSON from joke API:"
      ]
    },
    {
      "cell_type": "code",
      "execution_count": null,
      "id": "6b792eb4",
      "metadata": {
        "id": "6b792eb4",
        "outputId": "3afb6dc4-4360-40a1-9c52-dd588c12fe39"
      },
      "outputs": [
        {
          "data": {
            "text/plain": [
              "{'id': 123,\n",
              " 'type': 'general',\n",
              " 'setup': 'Why did the computer go to the doctor?',\n",
              " 'punchline': 'Because it caught a virus!'}"
            ]
          },
          "execution_count": 3,
          "metadata": {},
          "output_type": "execute_result"
        }
      ],
      "source": [
        "{\n",
        "  \"id\": 123,\n",
        "  \"type\": \"general\",\n",
        "  \"setup\": \"Why did the computer go to the doctor?\",\n",
        "  \"punchline\": \"Because it caught a virus!\"\n",
        "}"
      ]
    },
    {
      "cell_type": "markdown",
      "id": "e06e3cd1",
      "metadata": {
        "id": "e06e3cd1"
      },
      "source": [
        "🌟 **3. Handling JSON in Python**\n",
        "\n",
        "We use .json() method to turn the API response into a Python dictionary.\n",
        "\n",
        "👉 Example:"
      ]
    },
    {
      "cell_type": "code",
      "execution_count": null,
      "id": "7028a244",
      "metadata": {
        "id": "7028a244"
      },
      "outputs": [],
      "source": [
        "import requests\n",
        "\n",
        "# Call the API\n",
        "response = requests.get(\"https://official-joke-api.appspot.com/random_joke\")\n",
        "\n",
        "# Convert to Python dictionary\n",
        "data = response.json()\n",
        "\n",
        "# Access parts of the JSON\n",
        "print(\"Setup:\", data[\"setup\"])\n",
        "print(\"Punchline:\", data[\"punchline\"])"
      ]
    },
    {
      "cell_type": "markdown",
      "id": "e27f71a2",
      "metadata": {
        "id": "e27f71a2"
      },
      "source": [
        "➡️ The API replies back showing it got your data."
      ]
    },
    {
      "cell_type": "markdown",
      "id": "80c4b744",
      "metadata": {
        "id": "80c4b744"
      },
      "source": [
        "---\n",
        "\n",
        "# **Activities: APIs + Python + LLMs**\n",
        "\n",
        "---\n",
        "\n",
        "**✅ Activity 1: Set up Python Environment**\n",
        "\n",
        "Students can choose **Google Colab** (easiest) or **Local Setup**.\n",
        "\n",
        "**Option A: Google Colab (recommended 🎉)**\n",
        "\n",
        "1. Go to [Google Colab](https://colab.research.google.com/).\n",
        "2. Click **New Notebook**.\n",
        "3. You’re ready to write Python in the cloud ✅.\n",
        "\n",
        "**Option B: Local Setup (for advanced students)**\n",
        "\n",
        "1. Install **Anaconda** → it comes with **Jupyter Notebook**.\n",
        "2. Open **Jupyter Notebook** and start coding.\n",
        "\n",
        "---\n",
        "\n",
        "**✅ Activity 2: Sign Up for Groq API**\n",
        "\n",
        "1. Go to [console.groq.com](https://console.groq.com).\n",
        "2. Make a **free account**.\n",
        "3. Find your **API Key** (a secret password for using Groq).\n",
        "\n",
        "   * Copy it → we’ll use it in Python.\n",
        "   * 🔑 Keep it safe! Never share it publicly.\n",
        "\n",
        "---\n"
      ]
    },
    {
      "cell_type": "markdown",
      "id": "edc0f161",
      "metadata": {
        "id": "edc0f161"
      },
      "source": [
        "# 📘 Groq account, Notebook and GitHub 🗂"
      ]
    },
    {
      "cell_type": "markdown",
      "id": "409a92ee",
      "metadata": {
        "id": "409a92ee"
      },
      "source": [
        "### Part 1: Google Colab (Easiest Path)\n",
        "\n",
        "1. Go to [Google Colab](https://colab.research.google.com/).\n",
        "2. Click **New Notebook** → a fresh page opens.\n",
        "3. In each cell, type Python code → press **Shift + Enter** to run.\n",
        "4. Install libraries inside Colab with `!pip install <package>`\n",
        "\n",
        "💡 Example:"
      ]
    },
    {
      "cell_type": "code",
      "execution_count": 1,
      "id": "2eca7d73",
      "metadata": {
        "colab": {
          "base_uri": "https://localhost:8080/"
        },
        "id": "2eca7d73",
        "outputId": "fbc6e15e-78ea-44ba-b654-a74b2d1a1e1a"
      },
      "outputs": [
        {
          "output_type": "stream",
          "name": "stdout",
          "text": [
            "Collecting groq\n",
            "  Downloading groq-0.31.0-py3-none-any.whl.metadata (16 kB)\n",
            "Requirement already satisfied: anyio<5,>=3.5.0 in /usr/local/lib/python3.12/dist-packages (from groq) (4.10.0)\n",
            "Requirement already satisfied: distro<2,>=1.7.0 in /usr/local/lib/python3.12/dist-packages (from groq) (1.9.0)\n",
            "Requirement already satisfied: httpx<1,>=0.23.0 in /usr/local/lib/python3.12/dist-packages (from groq) (0.28.1)\n",
            "Requirement already satisfied: pydantic<3,>=1.9.0 in /usr/local/lib/python3.12/dist-packages (from groq) (2.11.7)\n",
            "Requirement already satisfied: sniffio in /usr/local/lib/python3.12/dist-packages (from groq) (1.3.1)\n",
            "Requirement already satisfied: typing-extensions<5,>=4.10 in /usr/local/lib/python3.12/dist-packages (from groq) (4.14.1)\n",
            "Requirement already satisfied: idna>=2.8 in /usr/local/lib/python3.12/dist-packages (from anyio<5,>=3.5.0->groq) (3.10)\n",
            "Requirement already satisfied: certifi in /usr/local/lib/python3.12/dist-packages (from httpx<1,>=0.23.0->groq) (2025.8.3)\n",
            "Requirement already satisfied: httpcore==1.* in /usr/local/lib/python3.12/dist-packages (from httpx<1,>=0.23.0->groq) (1.0.9)\n",
            "Requirement already satisfied: h11>=0.16 in /usr/local/lib/python3.12/dist-packages (from httpcore==1.*->httpx<1,>=0.23.0->groq) (0.16.0)\n",
            "Requirement already satisfied: annotated-types>=0.6.0 in /usr/local/lib/python3.12/dist-packages (from pydantic<3,>=1.9.0->groq) (0.7.0)\n",
            "Requirement already satisfied: pydantic-core==2.33.2 in /usr/local/lib/python3.12/dist-packages (from pydantic<3,>=1.9.0->groq) (2.33.2)\n",
            "Requirement already satisfied: typing-inspection>=0.4.0 in /usr/local/lib/python3.12/dist-packages (from pydantic<3,>=1.9.0->groq) (0.4.1)\n",
            "Downloading groq-0.31.0-py3-none-any.whl (131 kB)\n",
            "\u001b[2K   \u001b[90m━━━━━━━━━━━━━━━━━━━━━━━━━━━━━━━━━━━━━━━━\u001b[0m \u001b[32m131.4/131.4 kB\u001b[0m \u001b[31m8.0 MB/s\u001b[0m eta \u001b[36m0:00:00\u001b[0m\n",
            "\u001b[?25hInstalling collected packages: groq\n",
            "Successfully installed groq-0.31.0\n"
          ]
        }
      ],
      "source": [
        "!pip install groq"
      ]
    },
    {
      "cell_type": "markdown",
      "id": "22f7df5b",
      "metadata": {
        "id": "22f7df5b"
      },
      "source": [
        "### Part 2: Local Setup with Jupyter Notebook\n",
        "\n",
        "**🔹 Step 1: Install Anaconda**\n",
        "\n",
        "* Download [Anaconda](https://www.anaconda.com/products/distribution).\n",
        "* Install it (comes with Python + Jupyter).\n",
        "\n",
        "**🔹 Step 2: Open Jupyter Notebook**\n",
        "\n",
        "* Open **Anaconda Navigator**.\n",
        "* Click **Launch Jupyter Notebook**.\n",
        "* A browser window will open at: `http://localhost:8888/tree`.\n",
        "\n",
        "**🔹 Step 3: Create Notebook**\n",
        "\n",
        "* Click **New → Python 3 Notebook**.\n",
        "* Now write Python code in cells and press **Shift + Enter** to run."
      ]
    },
    {
      "cell_type": "markdown",
      "id": "54c167eb",
      "metadata": {
        "id": "54c167eb"
      },
      "source": [
        "### Part 3: GitHub + Notebooks\n",
        "\n",
        "**🔹 Step 1: Install Git (only once)**\n",
        "\n",
        "* [Download Git](https://git-scm.com/downloads).\n",
        "\n",
        "**🔹 Step 2: Setup GitHub Account**\n",
        "\n",
        "* Sign up at [github.com](https://github.com).\n",
        "* Create a new repository (e.g., `AI-Projects`).\n",
        "\n",
        "**🔹 Step 3: Connect Local Notebook to GitHub**\n",
        "\n",
        "In terminal (or Anaconda Prompt):"
      ]
    },
    {
      "cell_type": "code",
      "execution_count": null,
      "id": "4c5b52cc",
      "metadata": {
        "id": "4c5b52cc"
      },
      "outputs": [],
      "source": [
        "# Navigate to your project folder\n",
        "cd my_notebooks\n",
        "\n",
        "# Initialize Git\n",
        "git init\n",
        "\n",
        "# Add remote repository (replace with your repo link)\n",
        "git remote add origin https://github.com/username/AI-Projects.git\n",
        "\n",
        "# Add your files\n",
        "git add .\n",
        "\n",
        "# Commit changes\n",
        "git commit -m \"First notebook\"\n",
        "\n",
        "# Push to GitHub\n",
        "git push -u origin main"
      ]
    },
    {
      "cell_type": "markdown",
      "id": "45d82863",
      "metadata": {
        "id": "45d82863"
      },
      "source": [
        "\n",
        "### Upload via Website (simpler option)\n",
        "\n",
        "* Go to your repo on GitHub → **Upload Files** → drag & drop your `.ipynb`.\n",
        "\n",
        "### Using Colab with GitHub (Direct)\n",
        "\n",
        "Colab can **open & save notebooks directly to GitHub**:\n",
        "\n",
        "1. In Colab → **File → Save a copy in GitHub**.\n",
        "2. Choose your repo & folder.\n",
        "3. Done ✅\n",
        "\n",
        "<br>\n",
        "\n",
        "---"
      ]
    },
    {
      "cell_type": "markdown",
      "id": "fd431536",
      "metadata": {
        "id": "fd431536"
      },
      "source": [
        "# **🌟Resources🌟**"
      ]
    },
    {
      "cell_type": "markdown",
      "id": "21a6fce7",
      "metadata": {
        "id": "21a6fce7"
      },
      "source": [
        "### 🔹 1. Groq API Documentation\n",
        "\n",
        "* 🌍 [Groq API Docs](https://console.groq.com/docs)\n",
        "* What you’ll learn:\n",
        "  * How to create an API key\n",
        "  * Available models (like **Llama-3**)\n",
        "  * Code examples in Python\n",
        "  * Advanced usage (streaming, parameters, etc.)\n",
        "\n",
        "<br>\n",
        "\n",
        "---\n",
        "\n",
        "<br>\n",
        "\n",
        "### 🔹 2. Python `requests` Library\n",
        "\n",
        "* 🌍 [Requests Documentation](https://requests.readthedocs.io/en/latest/)\n",
        "* What you’ll learn:\n",
        "  * How to make GET and POST requests\n",
        "  * How to handle JSON responses\n",
        "  * How to send headers & parameters\n",
        "  * Real-world API examples\n",
        "\n",
        "<br>\n",
        "\n",
        "---\n",
        "\n",
        "<br>\n",
        "\n",
        "### 🔹 3. JSON Basics (extra help)\n",
        "\n",
        "* 🌍 [W3Schools JSON Tutorial](https://www.w3schools.com/js/js_json_intro.asp)\n",
        "* Simple, beginner-friendly intro to JSON (how data is structured, keys/values, etc.).\n",
        "\n",
        "<br>\n",
        "\n",
        "---\n",
        "\n",
        "<br>\n",
        "\n",
        "## 🔹 4. GitHub Guides (for sharing notebooks)\n",
        "\n",
        "* 🌍 [GitHub Docs: Hello World](https://docs.github.com/en/get-started/quickstart/hello-world)\n",
        "* 🌍 [Uploading files to GitHub](https://docs.github.com/en/repositories/working-with-files/managing-files/adding-a-file-to-a-repository)\n",
        "\n"
      ]
    },
    {
      "cell_type": "code",
      "source": [
        "!git clone https://github.com/muhammadawais131/Assignment-Week-01-Ai-/edit/main/README.md\n",
        "\n"
      ],
      "metadata": {
        "colab": {
          "base_uri": "https://localhost:8080/"
        },
        "id": "yXpylidZFEFJ",
        "outputId": "a0198dfb-18c6-408e-852c-a7c92c10bb44"
      },
      "id": "yXpylidZFEFJ",
      "execution_count": 5,
      "outputs": [
        {
          "output_type": "stream",
          "name": "stdout",
          "text": [
            "Cloning into 'README.md'...\n",
            "fatal: unable to update url base from redirection:\n",
            "  asked for: https://github.com/muhammadawais131/Assignment-Week-01-Ai-/edit/main/README.md/info/refs?service=git-upload-pack\n",
            "   redirect: https://github.com/login?return_to=https%3A%2F%2Fgithub.com%2Fmuhammadawais131%2FAssignment-Week-01-Ai-%2Fedit%2Fmain%2FREADME.md%2Finfo%2Frefs%3Fservice%3Dgit-upload-pack\n"
          ]
        }
      ]
    },
    {
      "cell_type": "code",
      "source": [],
      "metadata": {
        "id": "zV1wfrtCFIgU"
      },
      "id": "zV1wfrtCFIgU",
      "execution_count": null,
      "outputs": []
    }
  ],
  "metadata": {
    "kernelspec": {
      "display_name": "Python 3",
      "language": "python",
      "name": "python3"
    },
    "language_info": {
      "codemirror_mode": {
        "name": "ipython",
        "version": 3
      },
      "file_extension": ".py",
      "mimetype": "text/x-python",
      "name": "python",
      "nbconvert_exporter": "python",
      "pygments_lexer": "ipython3",
      "version": "3.11.0"
    },
    "colab": {
      "provenance": [],
      "include_colab_link": true
    }
  },
  "nbformat": 4,
  "nbformat_minor": 5
}